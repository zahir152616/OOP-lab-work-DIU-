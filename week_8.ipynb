{
  "nbformat": 4,
  "nbformat_minor": 0,
  "metadata": {
    "colab": {
      "name": "week 8.ipynb",
      "provenance": [],
      "authorship_tag": "ABX9TyMzWwyW92lMOtvWoukpxVZf",
      "include_colab_link": true
    },
    "kernelspec": {
      "name": "python3",
      "display_name": "Python 3"
    }
  },
  "cells": [
    {
      "cell_type": "markdown",
      "metadata": {
        "id": "view-in-github",
        "colab_type": "text"
      },
      "source": [
        "<a href=\"https://colab.research.google.com/github/zahir152616/OOP-lab-work-DIU-/blob/master/week_8.ipynb\" target=\"_parent\"><img src=\"https://colab.research.google.com/assets/colab-badge.svg\" alt=\"Open In Colab\"/></a>"
      ]
    },
    {
      "cell_type": "code",
      "metadata": {
        "id": "Tj7CMJwZcytt"
      },
      "source": [
        "\r\n",
        "#create base calss \r\n",
        "class Ball():\r\n",
        "  def __init__(self):\r\n",
        "    print(f'Ball created!')\r\n",
        "  \r\n",
        "  def who_am_i(self):\r\n",
        "    print(f'i am ball')"
      ],
      "execution_count": 1,
      "outputs": []
    },
    {
      "cell_type": "code",
      "metadata": {
        "id": "cYPArFmxdAgJ"
      },
      "source": [
        "\r\n",
        "#create a Child(football) class\r\n",
        "\r\n",
        "class Football(Ball):\r\n",
        "  def __init__(self):\r\n",
        "    #create instances of Ball\r\n",
        "    Ball.__init__(self)\r\n",
        "    print(f'football created!')"
      ],
      "execution_count": 2,
      "outputs": []
    },
    {
      "cell_type": "code",
      "metadata": {
        "colab": {
          "base_uri": "https://localhost:8080/"
        },
        "id": "tgvDP1-ndGhx",
        "outputId": "f76fc69f-5326-4b8e-eaba-d9bec0b7b371"
      },
      "source": [
        "#create object\r\n",
        "myFootball = Football()"
      ],
      "execution_count": 3,
      "outputs": [
        {
          "output_type": "stream",
          "text": [
            "Ball created!\n",
            "football created!\n"
          ],
          "name": "stdout"
        }
      ]
    },
    {
      "cell_type": "code",
      "metadata": {
        "colab": {
          "base_uri": "https://localhost:8080/"
        },
        "id": "z1YmAzkMdJSK",
        "outputId": "82ab14bf-2252-4acf-9499-a23cbaa94cb9"
      },
      "source": [
        "#call base method\r\n",
        "myFootball.who_am_i()"
      ],
      "execution_count": 4,
      "outputs": [
        {
          "output_type": "stream",
          "text": [
            "i am ball\n"
          ],
          "name": "stdout"
        }
      ]
    },
    {
      "cell_type": "code",
      "metadata": {
        "id": "AAR_TZT2dQY5"
      },
      "source": [
        "#overriding\r\n",
        "class Football(Ball):\r\n",
        "  def __init__(self):\r\n",
        "    #create instances of Ball\r\n",
        "    Ball.__init__(self)\r\n",
        "    print(f'football created!')\r\n",
        "  #overide base class method\r\n",
        "  def who_am_i(self):\r\n",
        "    print(f'i am football!')"
      ],
      "execution_count": 5,
      "outputs": []
    },
    {
      "cell_type": "code",
      "metadata": {
        "colab": {
          "base_uri": "https://localhost:8080/"
        },
        "id": "r3BMxDZIdUxY",
        "outputId": "609d7d4c-9a11-4681-b854-d287a991bef7"
      },
      "source": [
        "#create object\r\n",
        "myFootball = Football()\r\n",
        "#call overide method\r\n",
        "myFootball.who_am_i()"
      ],
      "execution_count": 6,
      "outputs": [
        {
          "output_type": "stream",
          "text": [
            "Ball created!\n",
            "football created!\n",
            "i am football!\n"
          ],
          "name": "stdout"
        }
      ]
    },
    {
      "cell_type": "code",
      "metadata": {
        "id": "95XlEpt1dYSW"
      },
      "source": [
        "#add new method \r\n",
        "#overriding\r\n",
        "class Football(Ball):\r\n",
        "  def __init__(self):\r\n",
        "    #create instances of Ball\r\n",
        "    Ball.__init__(self)\r\n",
        "    print(f'football created!')\r\n",
        "  #overide base class method\r\n",
        "  def who_am_i(self):\r\n",
        "    print(f'i am football!')\r\n",
        "  #new method\r\n",
        "  def play(self):\r\n",
        "    print(f'hey! i am ready for play!')"
      ],
      "execution_count": 7,
      "outputs": []
    },
    {
      "cell_type": "code",
      "metadata": {
        "colab": {
          "base_uri": "https://localhost:8080/"
        },
        "id": "zvGKH7E1dcxn",
        "outputId": "3c8c7fec-4f20-49b8-cd68-f4a2a4545a63"
      },
      "source": [
        "#create object\r\n",
        "myFootball = Football()\r\n",
        "#call new method\r\n",
        "myFootball.play()\r\n"
      ],
      "execution_count": 8,
      "outputs": [
        {
          "output_type": "stream",
          "text": [
            "Ball created!\n",
            "football created!\n",
            "hey! i am ready for play!\n"
          ],
          "name": "stdout"
        }
      ]
    }
  ]
}