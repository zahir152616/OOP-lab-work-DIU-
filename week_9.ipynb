{
  "nbformat": 4,
  "nbformat_minor": 0,
  "metadata": {
    "colab": {
      "name": "week 9.ipynb",
      "provenance": [],
      "authorship_tag": "ABX9TyNHqiAQkewINfTTN/BvicfZ",
      "include_colab_link": true
    },
    "kernelspec": {
      "name": "python3",
      "display_name": "Python 3"
    }
  },
  "cells": [
    {
      "cell_type": "markdown",
      "metadata": {
        "id": "view-in-github",
        "colab_type": "text"
      },
      "source": [
        "<a href=\"https://colab.research.google.com/github/zahir152616/OOP-lab-work-DIU-/blob/master/week_9.ipynb\" target=\"_parent\"><img src=\"https://colab.research.google.com/assets/colab-badge.svg\" alt=\"Open In Colab\"/></a>"
      ]
    },
    {
      "cell_type": "markdown",
      "metadata": {
        "id": "lvd5GR-9dy4L"
      },
      "source": [
        "\r\n",
        "**Polymorphism in Class Methods**"
      ]
    },
    {
      "cell_type": "code",
      "metadata": {
        "id": "mxSbqMJSdmC4"
      },
      "source": [
        "class Cat:\r\n",
        "    def __init__(self, name, age):\r\n",
        "        self.name = name\r\n",
        "        self.age = age\r\n",
        "\r\n",
        "    def info(self):\r\n",
        "        print(f\"I am a cat. My name is {self.name}. I am {self.age} years old.\")\r\n",
        "\r\n",
        "    def make_sound(self):\r\n",
        "        print(\"Meow\")"
      ],
      "execution_count": 1,
      "outputs": []
    },
    {
      "cell_type": "code",
      "metadata": {
        "id": "9m0sfurJeAM7"
      },
      "source": [
        "class Mouse:\r\n",
        "    def __init__(self, name, age):\r\n",
        "        self.name = name\r\n",
        "        self.age = age\r\n",
        "\r\n",
        "    def info(self):\r\n",
        "        print(f\"I am a Mouse. My name is {self.name}. I am {self.age} years old.\")\r\n",
        "\r\n",
        "    def make_sound(self):\r\n",
        "        print(\"Bark\")"
      ],
      "execution_count": 2,
      "outputs": []
    },
    {
      "cell_type": "code",
      "metadata": {
        "id": "NGalbGw7eJXV"
      },
      "source": [
        "#create object\r\n",
        "cat1 = Cat(\"tom\", 2.5)\r\n",
        "mouse1 = Mouse(\"jerry\", 4)"
      ],
      "execution_count": 3,
      "outputs": []
    },
    {
      "cell_type": "code",
      "metadata": {
        "colab": {
          "base_uri": "https://localhost:8080/"
        },
        "id": "_a_kNvcteOh7",
        "outputId": "1db9206f-63f1-42e0-a153-9db51a2c6398"
      },
      "source": [
        "for animal in (cat1, mouse1):\r\n",
        "    animal.make_sound()\r\n",
        "    animal.info()\r\n",
        "    animal.make_sound()"
      ],
      "execution_count": 4,
      "outputs": [
        {
          "output_type": "stream",
          "text": [
            "Meow\n",
            "I am a cat. My name is tom. I am 2.5 years old.\n",
            "Meow\n",
            "Bark\n",
            "I am a Mouse. My name is jerry. I am 4 years old.\n",
            "Bark\n"
          ],
          "name": "stdout"
        }
      ]
    },
    {
      "cell_type": "code",
      "metadata": {
        "id": "NlJ3lxkheXEk"
      },
      "source": [
        "#error and exception handling \r\n",
        "\r\n",
        "def add(n1, n2):\r\n",
        "  print(n1+n2)"
      ],
      "execution_count": 5,
      "outputs": []
    },
    {
      "cell_type": "code",
      "metadata": {
        "colab": {
          "base_uri": "https://localhost:8080/"
        },
        "id": "mXeifi-hebID",
        "outputId": "9d8d948b-3041-4158-c155-d5e57d64814e"
      },
      "source": [
        "add(10,20)"
      ],
      "execution_count": 6,
      "outputs": [
        {
          "output_type": "stream",
          "text": [
            "30\n"
          ],
          "name": "stdout"
        }
      ]
    },
    {
      "cell_type": "code",
      "metadata": {
        "colab": {
          "base_uri": "https://localhost:8080/"
        },
        "id": "Tj6I3cKieghI",
        "outputId": "74d28b64-94ed-4772-a4f8-0044ff2b474a"
      },
      "source": [
        "#exception handling\r\n",
        "\r\n",
        "try:\r\n",
        "  #want to attempt this code \r\n",
        "  #may have an error\r\n",
        "  result = 10+'10'\r\n",
        "except:\r\n",
        "  print(f'Hey! its looks like you are not adding correctly!')"
      ],
      "execution_count": 7,
      "outputs": [
        {
          "output_type": "stream",
          "text": [
            "Hey! its looks like you are not adding correctly!\n"
          ],
          "name": "stdout"
        }
      ]
    },
    {
      "cell_type": "code",
      "metadata": {
        "colab": {
          "base_uri": "https://localhost:8080/"
        },
        "id": "df8Z5YT7egoR",
        "outputId": "141f3b3d-0f6a-48b2-c5b6-334d3fdb6de6"
      },
      "source": [
        "#exception handling\r\n",
        "\r\n",
        "try:\r\n",
        "  #want to attempt this code \r\n",
        "  result = 10+10\r\n",
        "except:\r\n",
        "  print(f'Hey! its looks like you are not adding correctly!')\r\n",
        "else:\r\n",
        "  print(f'add went well')\r\n",
        "  print(f'sum is: {result}')"
      ],
      "execution_count": 8,
      "outputs": [
        {
          "output_type": "stream",
          "text": [
            "add went well\n",
            "sum is: 20\n"
          ],
          "name": "stdout"
        }
      ]
    }
  ]
}