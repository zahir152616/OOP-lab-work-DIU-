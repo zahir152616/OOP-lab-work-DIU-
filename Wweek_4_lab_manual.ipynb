{
  "nbformat": 4,
  "nbformat_minor": 0,
  "metadata": {
    "colab": {
      "name": "Wweek 4 lab manual.ipynb",
      "provenance": [],
      "authorship_tag": "ABX9TyPqNT3y1By9D1Jdv0wj7CGH",
      "include_colab_link": true
    },
    "kernelspec": {
      "name": "python3",
      "display_name": "Python 3"
    }
  },
  "cells": [
    {
      "cell_type": "markdown",
      "metadata": {
        "id": "view-in-github",
        "colab_type": "text"
      },
      "source": [
        "<a href=\"https://colab.research.google.com/github/zahir152616/OOP-lab-work-DIU-/blob/master/Wweek_4_lab_manual.ipynb\" target=\"_parent\"><img src=\"https://colab.research.google.com/assets/colab-badge.svg\" alt=\"Open In Colab\"/></a>"
      ]
    },
    {
      "cell_type": "code",
      "metadata": {
        "id": "ibvZ-iKaUIEq",
        "outputId": "e8b00ee4-f78c-42ce-855a-5029986515e1",
        "colab": {
          "base_uri": "https://localhost:8080/"
        }
      },
      "source": [
        "lst0=[1,2,3,32,2.23,43.23,\"python\",[2,32,3]]\n",
        "print(lst0)\n",
        "lst1=[]\n",
        "print(lst1)\n",
        "lst2=list()\n",
        "print(lst2)\n",
        "print(lst0[6])"
      ],
      "execution_count": 1,
      "outputs": [
        {
          "output_type": "stream",
          "text": [
            "[1, 2, 3, 32, 2.23, 43.23, 'python', [2, 32, 3]]\n",
            "[]\n",
            "[]\n",
            "python\n"
          ],
          "name": "stdout"
        }
      ]
    },
    {
      "cell_type": "code",
      "metadata": {
        "id": "tAGCuvFzUflP",
        "outputId": "1652ebc2-8281-4970-c6ae-6f11da6851a0",
        "colab": {
          "base_uri": "https://localhost:8080/"
        }
      },
      "source": [
        "lst0=[1,2,3,32,2.23,43.23,\"python\",[2,32,3]]\n",
        "for i in lst0:\n",
        "    print(i,end=' ')\n",
        "print('')"
      ],
      "execution_count": 2,
      "outputs": [
        {
          "output_type": "stream",
          "text": [
            "1 2 3 32 2.23 43.23 python [2, 32, 3] \n"
          ],
          "name": "stdout"
        }
      ]
    },
    {
      "cell_type": "code",
      "metadata": {
        "id": "cIXQwhnZUkhM",
        "outputId": "aba21c03-c032-4899-a2ae-554e698453d8",
        "colab": {
          "base_uri": "https://localhost:8080/"
        }
      },
      "source": [
        "lst0=[1,2,3,32,2.23,43.23,\"python\",[2,32,3]]\n",
        "for i in lst0:\n",
        "  print(i,end= '\\n ')\n",
        "  print(' ')"
      ],
      "execution_count": 3,
      "outputs": [
        {
          "output_type": "stream",
          "text": [
            "1\n",
            "  \n",
            "2\n",
            "  \n",
            "3\n",
            "  \n",
            "32\n",
            "  \n",
            "2.23\n",
            "  \n",
            "43.23\n",
            "  \n",
            "python\n",
            "  \n",
            "[2, 32, 3]\n",
            "  \n"
          ],
          "name": "stdout"
        }
      ]
    },
    {
      "cell_type": "code",
      "metadata": {
        "id": "LjDq989KUnSr",
        "outputId": "60b98346-facf-4c0a-bf28-db0284cfcaeb",
        "colab": {
          "base_uri": "https://localhost:8080/"
        }
      },
      "source": [
        "\n",
        "lst0=[1,2,3,32,2.23,43.23,\"python\",[2,32,3]]\n",
        "\n",
        "print(len(lst0))                #len( ) gives the length of the list\n",
        "\n",
        "lst0.append([12,2,12,2])        #append( ) inserts an element to the end of the list\n",
        "print(lst0)\n",
        "\n",
        "lst0.insert(2,\"pandas\")        \n",
        "print(lst0)\n",
        "\n",
        "lst0.remove(3)                  \n",
        "print(lst0)\n",
        "\n",
        "print(lst0.index(\"python\"))                    \n",
        "\n",
        "print(lst0.count('pandas'))     \n",
        "\n",
        "print(lst0.reverse())           \n",
        "\n",
        "lst1=lst0.copy()              \n",
        "print(lst1)\n",
        "\n",
        "lst0.clear()"
      ],
      "execution_count": 4,
      "outputs": [
        {
          "output_type": "stream",
          "text": [
            "8\n",
            "[1, 2, 3, 32, 2.23, 43.23, 'python', [2, 32, 3], [12, 2, 12, 2]]\n",
            "[1, 2, 'pandas', 3, 32, 2.23, 43.23, 'python', [2, 32, 3], [12, 2, 12, 2]]\n",
            "[1, 2, 'pandas', 32, 2.23, 43.23, 'python', [2, 32, 3], [12, 2, 12, 2]]\n",
            "6\n",
            "1\n",
            "None\n",
            "[[12, 2, 12, 2], [2, 32, 3], 'python', 43.23, 2.23, 32, 'pandas', 2, 1]\n"
          ],
          "name": "stdout"
        }
      ]
    },
    {
      "cell_type": "code",
      "metadata": {
        "id": "W4H79FuVUrhZ",
        "outputId": "f8fd22e9-5879-477b-b9f3-9c6289c44938",
        "colab": {
          "base_uri": "https://localhost:8080/"
        }
      },
      "source": [
        "lst0=[1,2,3,32,2.23,43.23,\"python\",[2,32,3]]\n",
        "\n",
        "print(lst0[2:7])\n",
        "print(lst0[2:])\n",
        "print(lst0[:5])\n",
        "print(lst0[:])"
      ],
      "execution_count": 5,
      "outputs": [
        {
          "output_type": "stream",
          "text": [
            "[3, 32, 2.23, 43.23, 'python']\n",
            "[3, 32, 2.23, 43.23, 'python', [2, 32, 3]]\n",
            "[1, 2, 3, 32, 2.23]\n",
            "[1, 2, 3, 32, 2.23, 43.23, 'python', [2, 32, 3]]\n"
          ],
          "name": "stdout"
        }
      ]
    },
    {
      "cell_type": "code",
      "metadata": {
        "id": "cb5c-vPfUuzW",
        "outputId": "392d3dc8-7f38-47b3-a368-2444706f2906",
        "colab": {
          "base_uri": "https://localhost:8080/"
        }
      },
      "source": [
        "[3, 32, 2.23, 43.23, 'python']\n",
        "[3, 32, 2.23, 43.23, 'python', [2, 32, 3]]\n",
        "[1, 2, 3, 32, 2.23]\n",
        "[1, 2, 3, 32, 2.23, 43.23, 'python', [2, 32, 3]]"
      ],
      "execution_count": 6,
      "outputs": [
        {
          "output_type": "execute_result",
          "data": {
            "text/plain": [
              "[1, 2, 3, 32, 2.23, 43.23, 'python', [2, 32, 3]]"
            ]
          },
          "metadata": {
            "tags": []
          },
          "execution_count": 6
        }
      ]
    },
    {
      "cell_type": "code",
      "metadata": {
        "id": "QeLTMiOhUy3s",
        "outputId": "459957db-1184-47a1-8374-1a9216bd926b",
        "colab": {
          "base_uri": "https://localhost:8080/"
        }
      },
      "source": [
        "lst0=[1,2,3,32,2.23,43.23,\"python\",[2,32,3]]\n",
        "\n",
        "print(lst0[2:7])\n",
        "print(lst0[2:])\n",
        "print(lst0[:5])\n",
        "print(lst0[:])"
      ],
      "execution_count": 7,
      "outputs": [
        {
          "output_type": "stream",
          "text": [
            "[3, 32, 2.23, 43.23, 'python']\n",
            "[3, 32, 2.23, 43.23, 'python', [2, 32, 3]]\n",
            "[1, 2, 3, 32, 2.23]\n",
            "[1, 2, 3, 32, 2.23, 43.23, 'python', [2, 32, 3]]\n"
          ],
          "name": "stdout"
        }
      ]
    },
    {
      "cell_type": "code",
      "metadata": {
        "id": "lhm_bQXgU9lT",
        "outputId": "79ad14d7-58ae-4d08-bc54-bddab6c78677",
        "colab": {
          "base_uri": "https://localhost:8080/"
        }
      },
      "source": [
        "lst0=[1,2,3,32,2.23,43.23,\"python\",[2,32,3]]\n",
        "\n",
        "print(lst0[2:7])\n",
        "print(lst0[2:])\n",
        "print(lst0[:5])\n",
        "print(lst0[:])"
      ],
      "execution_count": 8,
      "outputs": [
        {
          "output_type": "stream",
          "text": [
            "[3, 32, 2.23, 43.23, 'python']\n",
            "[3, 32, 2.23, 43.23, 'python', [2, 32, 3]]\n",
            "[1, 2, 3, 32, 2.23]\n",
            "[1, 2, 3, 32, 2.23, 43.23, 'python', [2, 32, 3]]\n"
          ],
          "name": "stdout"
        }
      ]
    },
    {
      "cell_type": "code",
      "metadata": {
        "id": "4_4hPHblVBZb",
        "outputId": "12d4af18-6068-4f01-e5f7-4ba4ef9c769a",
        "colab": {
          "base_uri": "https://localhost:8080/"
        }
      },
      "source": [
        "lst0=[1,2,3,32,2.23,43.23,\"python\",[2,32,3]]\n",
        "\n",
        "print(lst0[2:7])\n",
        "print(lst0[2:])\n",
        "print(lst0[:5])\n",
        "print(lst0[:])"
      ],
      "execution_count": 9,
      "outputs": [
        {
          "output_type": "stream",
          "text": [
            "[3, 32, 2.23, 43.23, 'python']\n",
            "[3, 32, 2.23, 43.23, 'python', [2, 32, 3]]\n",
            "[1, 2, 3, 32, 2.23]\n",
            "[1, 2, 3, 32, 2.23, 43.23, 'python', [2, 32, 3]]\n"
          ],
          "name": "stdout"
        }
      ]
    },
    {
      "cell_type": "code",
      "metadata": {
        "id": "so_1piyRVE9P",
        "outputId": "552d509d-ca16-4431-ee9e-96a75e0d7da2",
        "colab": {
          "base_uri": "https://localhost:8080/"
        }
      },
      "source": [
        "lst2=[1,2,4,2,4,2,4,2,5,6,7,4]\n",
        "\n",
        "lst3=sorted(lst2)\n",
        "print(lst3)\n",
        "print(lst2)\n",
        "lst2.sort()\n",
        "print(lst2)"
      ],
      "execution_count": 10,
      "outputs": [
        {
          "output_type": "stream",
          "text": [
            "[1, 2, 2, 2, 2, 4, 4, 4, 4, 5, 6, 7]\n",
            "[1, 2, 4, 2, 4, 2, 4, 2, 5, 6, 7, 4]\n",
            "[1, 2, 2, 2, 2, 4, 4, 4, 4, 5, 6, 7]\n"
          ],
          "name": "stdout"
        }
      ]
    },
    {
      "cell_type": "code",
      "metadata": {
        "id": "lllDhTe7VHv3",
        "outputId": "bebd942e-3e6b-4346-dcdf-36ec8aefa1e2",
        "colab": {
          "base_uri": "https://localhost:8080/"
        }
      },
      "source": [
        "tp0=(1,2,3,32,2.23,43.23,\"python\",[2,32,3])\n",
        "print(tp0)\n",
        "tp1=()\n",
        "print(tp1)\n",
        "tp2=tuple()\n",
        "print(tp2)"
      ],
      "execution_count": 11,
      "outputs": [
        {
          "output_type": "stream",
          "text": [
            "(1, 2, 3, 32, 2.23, 43.23, 'python', [2, 32, 3])\n",
            "()\n",
            "()\n"
          ],
          "name": "stdout"
        }
      ]
    },
    {
      "cell_type": "code",
      "metadata": {
        "id": "wYeF9mcoVK6k",
        "outputId": "e0e8b46a-119a-4bbf-858e-df0ab85bb55c",
        "colab": {
          "base_uri": "https://localhost:8080/"
        }
      },
      "source": [
        "tp0=(1,2,3,32,2.23,43.23,\"python\",[2,32,3])\n",
        "for i in tp0:\n",
        "    print(i,end=' ')\n",
        "print('')"
      ],
      "execution_count": 12,
      "outputs": [
        {
          "output_type": "stream",
          "text": [
            "1 2 3 32 2.23 43.23 python [2, 32, 3] \n"
          ],
          "name": "stdout"
        }
      ]
    },
    {
      "cell_type": "code",
      "metadata": {
        "id": "VcAiVoqUVN4O",
        "outputId": "b67fe908-8ea2-477f-f3af-48d6002a0bf1",
        "colab": {
          "base_uri": "https://localhost:8080/"
        }
      },
      "source": [
        "tp0=(1,2,3,32,2.23,43.23,\"python\",[2,32,3])\n",
        "for i in tp0:\n",
        "    print(i,end=' ')\n",
        "print('')"
      ],
      "execution_count": 13,
      "outputs": [
        {
          "output_type": "stream",
          "text": [
            "1 2 3 32 2.23 43.23 python [2, 32, 3] \n"
          ],
          "name": "stdout"
        }
      ]
    },
    {
      "cell_type": "code",
      "metadata": {
        "id": "fp0S853SVREF",
        "outputId": "caf3100f-5fa6-44d2-d529-a773d79b4541",
        "colab": {
          "base_uri": "https://localhost:8080/"
        }
      },
      "source": [
        "tp0=(1,2,3,32,2.23,43.23,\"python\",[2,32,3])\n",
        "for i in tp0:\n",
        "    print(i,end=' ')\n",
        "print('')"
      ],
      "execution_count": 14,
      "outputs": [
        {
          "output_type": "stream",
          "text": [
            "1 2 3 32 2.23 43.23 python [2, 32, 3] \n"
          ],
          "name": "stdout"
        }
      ]
    },
    {
      "cell_type": "code",
      "metadata": {
        "id": "bKxWprAFVTl5",
        "outputId": "df7abdd9-9005-4f53-e9e0-de23ced83a25",
        "colab": {
          "base_uri": "https://localhost:8080/"
        }
      },
      "source": [
        "tp0=(1,2,3,32,2.23,43.23,\"python\",[2,32,3])\n",
        "print(tp0[2])\n",
        "print(tp0[6])\n",
        "print(tp0[-2])\n",
        "print(tp0[-7])"
      ],
      "execution_count": 15,
      "outputs": [
        {
          "output_type": "stream",
          "text": [
            "3\n",
            "python\n",
            "python\n",
            "2\n"
          ],
          "name": "stdout"
        }
      ]
    },
    {
      "cell_type": "code",
      "metadata": {
        "id": "tkuxHfI-VXt3",
        "outputId": "2ea71e15-63ea-46ca-97c3-026660ecf9b6",
        "colab": {
          "base_uri": "https://localhost:8080/"
        }
      },
      "source": [
        "\n",
        "tp0=(1,2,3,32,2.23,43.23,\"python\",[2,32,3])\n",
        "tp0+=(\"pandas\",232,3,232,3)\n",
        "print(tp0)"
      ],
      "execution_count": 16,
      "outputs": [
        {
          "output_type": "stream",
          "text": [
            "(1, 2, 3, 32, 2.23, 43.23, 'python', [2, 32, 3], 'pandas', 232, 3, 232, 3)\n"
          ],
          "name": "stdout"
        }
      ]
    },
    {
      "cell_type": "code",
      "metadata": {
        "id": "gYNV97X9Vaxu",
        "outputId": "c8115165-eecd-4e87-c98f-1ba16ed88000",
        "colab": {
          "base_uri": "https://localhost:8080/"
        }
      },
      "source": [
        "lst=[2,3,423,43]\n",
        "a,b,c,d=lst\n",
        "print(a)\n",
        "print(b)\n",
        "print(c)\n",
        "print(d)"
      ],
      "execution_count": 17,
      "outputs": [
        {
          "output_type": "stream",
          "text": [
            "2\n",
            "3\n",
            "423\n",
            "43\n"
          ],
          "name": "stdout"
        }
      ]
    },
    {
      "cell_type": "code",
      "metadata": {
        "id": "EyfEeuHiVdjk",
        "outputId": "36277ff6-1eb9-416b-8620-152fa2bf54e0",
        "colab": {
          "base_uri": "https://localhost:8080/"
        }
      },
      "source": [
        "tp=(2,3,423,43)\n",
        "a,b,c,d=tp\n",
        "print(a)\n",
        "print(b)\n",
        "print(c)\n",
        "print(d)"
      ],
      "execution_count": 18,
      "outputs": [
        {
          "output_type": "stream",
          "text": [
            "2\n",
            "3\n",
            "423\n",
            "43\n"
          ],
          "name": "stdout"
        }
      ]
    }
  ]
}